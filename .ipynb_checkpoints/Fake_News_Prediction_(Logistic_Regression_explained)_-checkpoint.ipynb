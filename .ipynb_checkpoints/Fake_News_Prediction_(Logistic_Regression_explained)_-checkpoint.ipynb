{
 "cells": [
  {
   "cell_type": "markdown",
   "metadata": {
    "id": "ycCzmAQoYHQK"
   },
   "source": [
    "# Fake News Prediction"
   ]
  },
  {
   "cell_type": "markdown",
   "metadata": {
    "id": "AYrqf8cGY-X4"
   },
   "source": [
    "## dataset can be downloaded from [here](https://www.kaggle.com/competitions/fake-news/data)"
   ]
  },
  {
   "cell_type": "code",
   "execution_count": 2,
   "metadata": {
    "id": "N8OsKXWQX55M"
   },
   "outputs": [],
   "source": [
    "import pandas as pd\n",
    "import numpy as np\n",
    "import re   # regular expression used for searching words in a text or paragraph\n",
    "from nltk.corpus import stopwords   # the is an they are some of the stop words of english language\n",
    "from nltk.stem.porter import PorterStemmer    # accidental , accident or watch, watching, watched , these have same meaning so we stemm them\n",
    "from sklearn.feature_extraction.text import TfidfVectorizer   # converting text into a vector of a number\n",
    "from sklearn.model_selection import  train_test_split\n",
    "from sklearn.linear_model import LogisticRegression   # logistic regression is used to predict weather something is true or false\n",
    "from sklearn.metrics import accuracy_score"
   ]
  },
  {
   "cell_type": "markdown",
   "metadata": {
    "id": "ThPGEkYyc-9U"
   },
   "source": [
    "## what is Logistic Regression"
   ]
  },
  {
   "cell_type": "code",
   "execution_count": null,
   "metadata": {
    "id": "N8Td14nnas3p"
   },
   "outputs": [],
   "source": [
    "# in a linear regression we fit a line to the data and do the prediction of a continious value related to the problem, but in logistic\n",
    "# regression we fit a \"S\" shaped curve and predict weather something is True or False. it works on the principle of pobability\n",
    "# it tells the probability of an even say if a mouse is obease or not , then if the probabily of a mouse being ovease is more than 50% then\n",
    "# the mouse if obease. if less then hes not obease.\n",
    "\n"
   ]
  }
 ],
 "metadata": {
  "colab": {
   "provenance": []
  },
  "kernelspec": {
   "display_name": "Python 3 (ipykernel)",
   "language": "python",
   "name": "python3"
  },
  "language_info": {
   "codemirror_mode": {
    "name": "ipython",
    "version": 3
   },
   "file_extension": ".py",
   "mimetype": "text/x-python",
   "name": "python",
   "nbconvert_exporter": "python",
   "pygments_lexer": "ipython3",
   "version": "3.11.3"
  }
 },
 "nbformat": 4,
 "nbformat_minor": 1
}
