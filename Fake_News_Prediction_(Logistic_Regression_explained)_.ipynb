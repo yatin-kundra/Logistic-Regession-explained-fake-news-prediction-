{
 "cells": [
  {
   "cell_type": "markdown",
   "metadata": {
    "id": "ycCzmAQoYHQK"
   },
   "source": [
    "# Fake News Prediction"
   ]
  },
  {
   "cell_type": "markdown",
   "metadata": {
    "id": "AYrqf8cGY-X4"
   },
   "source": [
    "## dataset can be downloaded from [here](https://www.kaggle.com/competitions/fake-news/data)"
   ]
  },
  {
   "cell_type": "code",
   "execution_count": 2,
   "metadata": {
    "id": "N8OsKXWQX55M"
   },
   "outputs": [],
   "source": [
    "import pandas as pd\n",
    "import numpy as np\n",
    "import re   # regular expression used for searching words in a text or paragraph\n",
    "from nltk.corpus import stopwords   # the is an they are some of the stop words of english language\n",
    "from nltk.stem.porter import PorterStemmer    # accidental , accident or watch, watching, watched , these have same meaning so we stemm them\n",
    "from sklearn.feature_extraction.text import TfidfVectorizer   # converting text into a vector of a number\n",
    "from sklearn.model_selection import  train_test_split\n",
    "from sklearn.linear_model import LogisticRegression   # logistic regression is used to predict weather something is true or false\n",
    "from sklearn.metrics import accuracy_score"
   ]
  },
  {
   "cell_type": "markdown",
   "metadata": {
    "id": "ThPGEkYyc-9U"
   },
   "source": [
    "## what is Logistic Regression"
   ]
  },
  {
   "cell_type": "markdown",
   "metadata": {
    "id": "N8Td14nnas3p"
   },
   "source": [
    "in a linear regression we fit a line to the data and do the prediction of a continious value related to the problem, but in logistic\n",
    "regression we fit a \"S\" shaped curve and predict weather something is True or False. it works on the principle of pobability\n",
    "it tells the probability of an even say if a mouse is obease or not , then if the probabily of a mouse being ovease is more than 50% then\n",
    "the mouse if obease. if less then hes not obease."
   ]
  },
  {
   "cell_type": "markdown",
   "metadata": {},
   "source": [
    "<!-- ![Logistic](imgs/logReg1.png){ width=60%,height:30px} -->\n",
    "<img src=\"imgs/logReg1.png\" alt=\"Graph\" title=\"Logistic Regression\" width=\"300px\" height = \"300px\"/>"
   ]
  },
  {
   "cell_type": "markdown",
   "metadata": {},
   "source": [
    "* logistic regression can work with both continious and discreat data\n",
    "* in logistic regression we can't easily compare a complicated model to a simple model, but we can see if a variables effect on prediction is significantly diffrent form zero, if the effect is significantly diffrent form zero then it means the variable is having an impact on the prediction\n",
    "* it provides probability using continious and discreat measurements\n",
    "* in Linear regression we find a line that minimizes the sum of squares of the distance of the poinsts from the line \n",
    "* in Logistic regression we calculate \"likelihood\" a each data poin and multiply them and that is the likelihood the data given the line. means that if take a line and then calculate if this line is good enough (we do this by calculating the likelihood of diffrent diffrent data points) if not then we shift the line and calculate the likeihood the data points and as we have labels we would know which line is the best fit to data, i.e. the line that fits the best has max likelihood to make the best prediction for the given data\n"
   ]
  },
  {
   "cell_type": "markdown",
   "metadata": {},
   "source": [
    "<img src=\"imgs/logReg2.png\" alt=\"Graph\" title=\"Logistic Regression\" width=\"300px\" height = \"300px\"/>"
   ]
  },
  {
   "cell_type": "code",
   "execution_count": null,
   "metadata": {},
   "outputs": [],
   "source": []
  }
 ],
 "metadata": {
  "colab": {
   "provenance": []
  },
  "kernelspec": {
   "display_name": "Python 3 (ipykernel)",
   "language": "python",
   "name": "python3"
  },
  "language_info": {
   "codemirror_mode": {
    "name": "ipython",
    "version": 3
   },
   "file_extension": ".py",
   "mimetype": "text/x-python",
   "name": "python",
   "nbconvert_exporter": "python",
   "pygments_lexer": "ipython3",
   "version": "3.11.3"
  }
 },
 "nbformat": 4,
 "nbformat_minor": 1
}
